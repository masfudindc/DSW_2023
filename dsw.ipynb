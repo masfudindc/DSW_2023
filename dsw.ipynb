{
  "nbformat": 4,
  "nbformat_minor": 0,
  "metadata": {
    "colab": {
      "provenance": [],
      "authorship_tag": "ABX9TyMswXm63AG+8Q7zyF5gBnQN"
    },
    "kernelspec": {
      "name": "python3",
      "display_name": "Python 3"
    },
    "language_info": {
      "name": "python"
    }
  },
  "cells": [
    {
      "cell_type": "markdown",
      "source": [
        "# **DATA CHALLANGE - DSW**\n",
        "\n",
        "# **Tim ALSubarasi**"
      ],
      "metadata": {
        "id": "zIOQyDVYMBiu"
      }
    },
    {
      "cell_type": "markdown",
      "source": [
        "Langkah-langkah:\n",
        "\n",
        "1. Import Library\n",
        "2. Load Data\n",
        "3. Pemrosesan Data/Preprocessing\n",
        "4. Ekplorasi dan Visualisasi Data\n",
        "5. Pembuatan dan Pelatihan Model\n",
        "6. Evaluasi Model\n",
        "7. Tuning Model\n",
        "8. Pengimplementasian Model\n",
        "9. Dokumentasi"
      ],
      "metadata": {
        "id": "ULyHwKpIHxU1"
      }
    },
    {
      "cell_type": "markdown",
      "source": [
        "# **Import Library**"
      ],
      "metadata": {
        "id": "vtsBJZd3QPtL"
      }
    },
    {
      "cell_type": "code",
      "source": [
        "import pandas as pd\n",
        "from sklearn.model_selection import train_test_split\n",
        "from sklearn.linear_model import LogisticRegression\n",
        "from sklearn.metrics import accuracy_score\n",
        "from sklearn.preprocessing import StandardScaler"
      ],
      "metadata": {
        "id": "1hjserCYQRbC"
      },
      "execution_count": 40,
      "outputs": []
    },
    {
      "cell_type": "markdown",
      "source": [
        "# **Load Data**"
      ],
      "metadata": {
        "id": "jURyPzM1P8D4"
      }
    },
    {
      "cell_type": "code",
      "execution_count": null,
      "metadata": {
        "id": "vD-29rknL-ht",
        "colab": {
          "base_uri": "https://localhost:8080/"
        },
        "outputId": "f8ea7c91-9a43-49d8-d024-60b9e070f6f4"
      },
      "outputs": [
        {
          "output_type": "stream",
          "name": "stdout",
          "text": [
            "Mounted at /content/drive\n"
          ]
        }
      ],
      "source": [
        "# Load Data\n",
        "from google.colab import drive\n",
        "drive.mount('/content/drive')"
      ]
    },
    {
      "cell_type": "code",
      "source": [
        "df = pd.read_csv('/content/drive/MyDrive/DSW/dsw.csv')\n",
        "\n",
        "df.head()"
      ],
      "metadata": {
        "id": "1aboTyZDQBOy",
        "outputId": "9a6e1556-eb8a-4ea4-b321-0bbd0f705c83",
        "colab": {
          "base_uri": "https://localhost:8080/",
          "height": 365
        }
      },
      "execution_count": 58,
      "outputs": [
        {
          "output_type": "execute_result",
          "data": {
            "text/plain": [
              "   Customer ID  Tenure Months Location Device Class Games Product  \\\n",
              "0            0              2  Jakarta      Mid End           Yes   \n",
              "1            1              2  Jakarta     High End            No   \n",
              "2            2              8  Jakarta     High End            No   \n",
              "3            3             28  Jakarta     High End            No   \n",
              "4            4             49  Jakarta     High End            No   \n",
              "\n",
              "  Music Product Education Product Call Center Video Product Use MyApp  \\\n",
              "0           Yes                No          No            No        No   \n",
              "1            No                No          No            No        No   \n",
              "2            No               Yes          No           Yes       Yes   \n",
              "3            No               Yes         Yes           Yes       Yes   \n",
              "4           Yes               Yes          No           Yes       Yes   \n",
              "\n",
              "   Payment Method Monthly Purchase (Thou. IDR) Churn Label  Longitude  \\\n",
              "0  Digital Wallet                       70,005         Yes  106,81667   \n",
              "1           Pulsa                        91,91         Yes  106,81667   \n",
              "2           Pulsa                      129,545         Yes  106,81667   \n",
              "3           Pulsa                       136,24         Yes  106,81667   \n",
              "4           Debit                       134,81         Yes  106,81667   \n",
              "\n",
              "   Latitude CLTV (Predicted Thou. IDR)  \n",
              "0  -6,20000                     4210,7  \n",
              "1  -6,20000                     3511,3  \n",
              "2  -6,20000                     6983,6  \n",
              "3  -6,20000                     6503,9  \n",
              "4  -6,20000                       6942  "
            ],
            "text/html": [
              "\n",
              "  <div id=\"df-c1dbbb0c-32ef-42b6-8224-a713f77fa921\" class=\"colab-df-container\">\n",
              "    <div>\n",
              "<style scoped>\n",
              "    .dataframe tbody tr th:only-of-type {\n",
              "        vertical-align: middle;\n",
              "    }\n",
              "\n",
              "    .dataframe tbody tr th {\n",
              "        vertical-align: top;\n",
              "    }\n",
              "\n",
              "    .dataframe thead th {\n",
              "        text-align: right;\n",
              "    }\n",
              "</style>\n",
              "<table border=\"1\" class=\"dataframe\">\n",
              "  <thead>\n",
              "    <tr style=\"text-align: right;\">\n",
              "      <th></th>\n",
              "      <th>Customer ID</th>\n",
              "      <th>Tenure Months</th>\n",
              "      <th>Location</th>\n",
              "      <th>Device Class</th>\n",
              "      <th>Games Product</th>\n",
              "      <th>Music Product</th>\n",
              "      <th>Education Product</th>\n",
              "      <th>Call Center</th>\n",
              "      <th>Video Product</th>\n",
              "      <th>Use MyApp</th>\n",
              "      <th>Payment Method</th>\n",
              "      <th>Monthly Purchase (Thou. IDR)</th>\n",
              "      <th>Churn Label</th>\n",
              "      <th>Longitude</th>\n",
              "      <th>Latitude</th>\n",
              "      <th>CLTV (Predicted Thou. IDR)</th>\n",
              "    </tr>\n",
              "  </thead>\n",
              "  <tbody>\n",
              "    <tr>\n",
              "      <th>0</th>\n",
              "      <td>0</td>\n",
              "      <td>2</td>\n",
              "      <td>Jakarta</td>\n",
              "      <td>Mid End</td>\n",
              "      <td>Yes</td>\n",
              "      <td>Yes</td>\n",
              "      <td>No</td>\n",
              "      <td>No</td>\n",
              "      <td>No</td>\n",
              "      <td>No</td>\n",
              "      <td>Digital Wallet</td>\n",
              "      <td>70,005</td>\n",
              "      <td>Yes</td>\n",
              "      <td>106,81667</td>\n",
              "      <td>-6,20000</td>\n",
              "      <td>4210,7</td>\n",
              "    </tr>\n",
              "    <tr>\n",
              "      <th>1</th>\n",
              "      <td>1</td>\n",
              "      <td>2</td>\n",
              "      <td>Jakarta</td>\n",
              "      <td>High End</td>\n",
              "      <td>No</td>\n",
              "      <td>No</td>\n",
              "      <td>No</td>\n",
              "      <td>No</td>\n",
              "      <td>No</td>\n",
              "      <td>No</td>\n",
              "      <td>Pulsa</td>\n",
              "      <td>91,91</td>\n",
              "      <td>Yes</td>\n",
              "      <td>106,81667</td>\n",
              "      <td>-6,20000</td>\n",
              "      <td>3511,3</td>\n",
              "    </tr>\n",
              "    <tr>\n",
              "      <th>2</th>\n",
              "      <td>2</td>\n",
              "      <td>8</td>\n",
              "      <td>Jakarta</td>\n",
              "      <td>High End</td>\n",
              "      <td>No</td>\n",
              "      <td>No</td>\n",
              "      <td>Yes</td>\n",
              "      <td>No</td>\n",
              "      <td>Yes</td>\n",
              "      <td>Yes</td>\n",
              "      <td>Pulsa</td>\n",
              "      <td>129,545</td>\n",
              "      <td>Yes</td>\n",
              "      <td>106,81667</td>\n",
              "      <td>-6,20000</td>\n",
              "      <td>6983,6</td>\n",
              "    </tr>\n",
              "    <tr>\n",
              "      <th>3</th>\n",
              "      <td>3</td>\n",
              "      <td>28</td>\n",
              "      <td>Jakarta</td>\n",
              "      <td>High End</td>\n",
              "      <td>No</td>\n",
              "      <td>No</td>\n",
              "      <td>Yes</td>\n",
              "      <td>Yes</td>\n",
              "      <td>Yes</td>\n",
              "      <td>Yes</td>\n",
              "      <td>Pulsa</td>\n",
              "      <td>136,24</td>\n",
              "      <td>Yes</td>\n",
              "      <td>106,81667</td>\n",
              "      <td>-6,20000</td>\n",
              "      <td>6503,9</td>\n",
              "    </tr>\n",
              "    <tr>\n",
              "      <th>4</th>\n",
              "      <td>4</td>\n",
              "      <td>49</td>\n",
              "      <td>Jakarta</td>\n",
              "      <td>High End</td>\n",
              "      <td>No</td>\n",
              "      <td>Yes</td>\n",
              "      <td>Yes</td>\n",
              "      <td>No</td>\n",
              "      <td>Yes</td>\n",
              "      <td>Yes</td>\n",
              "      <td>Debit</td>\n",
              "      <td>134,81</td>\n",
              "      <td>Yes</td>\n",
              "      <td>106,81667</td>\n",
              "      <td>-6,20000</td>\n",
              "      <td>6942</td>\n",
              "    </tr>\n",
              "  </tbody>\n",
              "</table>\n",
              "</div>\n",
              "    <div class=\"colab-df-buttons\">\n",
              "\n",
              "  <div class=\"colab-df-container\">\n",
              "    <button class=\"colab-df-convert\" onclick=\"convertToInteractive('df-c1dbbb0c-32ef-42b6-8224-a713f77fa921')\"\n",
              "            title=\"Convert this dataframe to an interactive table.\"\n",
              "            style=\"display:none;\">\n",
              "\n",
              "  <svg xmlns=\"http://www.w3.org/2000/svg\" height=\"24px\" viewBox=\"0 -960 960 960\">\n",
              "    <path d=\"M120-120v-720h720v720H120Zm60-500h600v-160H180v160Zm220 220h160v-160H400v160Zm0 220h160v-160H400v160ZM180-400h160v-160H180v160Zm440 0h160v-160H620v160ZM180-180h160v-160H180v160Zm440 0h160v-160H620v160Z\"/>\n",
              "  </svg>\n",
              "    </button>\n",
              "\n",
              "  <style>\n",
              "    .colab-df-container {\n",
              "      display:flex;\n",
              "      gap: 12px;\n",
              "    }\n",
              "\n",
              "    .colab-df-convert {\n",
              "      background-color: #E8F0FE;\n",
              "      border: none;\n",
              "      border-radius: 50%;\n",
              "      cursor: pointer;\n",
              "      display: none;\n",
              "      fill: #1967D2;\n",
              "      height: 32px;\n",
              "      padding: 0 0 0 0;\n",
              "      width: 32px;\n",
              "    }\n",
              "\n",
              "    .colab-df-convert:hover {\n",
              "      background-color: #E2EBFA;\n",
              "      box-shadow: 0px 1px 2px rgba(60, 64, 67, 0.3), 0px 1px 3px 1px rgba(60, 64, 67, 0.15);\n",
              "      fill: #174EA6;\n",
              "    }\n",
              "\n",
              "    .colab-df-buttons div {\n",
              "      margin-bottom: 4px;\n",
              "    }\n",
              "\n",
              "    [theme=dark] .colab-df-convert {\n",
              "      background-color: #3B4455;\n",
              "      fill: #D2E3FC;\n",
              "    }\n",
              "\n",
              "    [theme=dark] .colab-df-convert:hover {\n",
              "      background-color: #434B5C;\n",
              "      box-shadow: 0px 1px 3px 1px rgba(0, 0, 0, 0.15);\n",
              "      filter: drop-shadow(0px 1px 2px rgba(0, 0, 0, 0.3));\n",
              "      fill: #FFFFFF;\n",
              "    }\n",
              "  </style>\n",
              "\n",
              "    <script>\n",
              "      const buttonEl =\n",
              "        document.querySelector('#df-c1dbbb0c-32ef-42b6-8224-a713f77fa921 button.colab-df-convert');\n",
              "      buttonEl.style.display =\n",
              "        google.colab.kernel.accessAllowed ? 'block' : 'none';\n",
              "\n",
              "      async function convertToInteractive(key) {\n",
              "        const element = document.querySelector('#df-c1dbbb0c-32ef-42b6-8224-a713f77fa921');\n",
              "        const dataTable =\n",
              "          await google.colab.kernel.invokeFunction('convertToInteractive',\n",
              "                                                    [key], {});\n",
              "        if (!dataTable) return;\n",
              "\n",
              "        const docLinkHtml = 'Like what you see? Visit the ' +\n",
              "          '<a target=\"_blank\" href=https://colab.research.google.com/notebooks/data_table.ipynb>data table notebook</a>'\n",
              "          + ' to learn more about interactive tables.';\n",
              "        element.innerHTML = '';\n",
              "        dataTable['output_type'] = 'display_data';\n",
              "        await google.colab.output.renderOutput(dataTable, element);\n",
              "        const docLink = document.createElement('div');\n",
              "        docLink.innerHTML = docLinkHtml;\n",
              "        element.appendChild(docLink);\n",
              "      }\n",
              "    </script>\n",
              "  </div>\n",
              "\n",
              "\n",
              "<div id=\"df-dceff851-4df1-490c-a299-4537300203ab\">\n",
              "  <button class=\"colab-df-quickchart\" onclick=\"quickchart('df-dceff851-4df1-490c-a299-4537300203ab')\"\n",
              "            title=\"Suggest charts\"\n",
              "            style=\"display:none;\">\n",
              "\n",
              "<svg xmlns=\"http://www.w3.org/2000/svg\" height=\"24px\"viewBox=\"0 0 24 24\"\n",
              "     width=\"24px\">\n",
              "    <g>\n",
              "        <path d=\"M19 3H5c-1.1 0-2 .9-2 2v14c0 1.1.9 2 2 2h14c1.1 0 2-.9 2-2V5c0-1.1-.9-2-2-2zM9 17H7v-7h2v7zm4 0h-2V7h2v10zm4 0h-2v-4h2v4z\"/>\n",
              "    </g>\n",
              "</svg>\n",
              "  </button>\n",
              "\n",
              "<style>\n",
              "  .colab-df-quickchart {\n",
              "      --bg-color: #E8F0FE;\n",
              "      --fill-color: #1967D2;\n",
              "      --hover-bg-color: #E2EBFA;\n",
              "      --hover-fill-color: #174EA6;\n",
              "      --disabled-fill-color: #AAA;\n",
              "      --disabled-bg-color: #DDD;\n",
              "  }\n",
              "\n",
              "  [theme=dark] .colab-df-quickchart {\n",
              "      --bg-color: #3B4455;\n",
              "      --fill-color: #D2E3FC;\n",
              "      --hover-bg-color: #434B5C;\n",
              "      --hover-fill-color: #FFFFFF;\n",
              "      --disabled-bg-color: #3B4455;\n",
              "      --disabled-fill-color: #666;\n",
              "  }\n",
              "\n",
              "  .colab-df-quickchart {\n",
              "    background-color: var(--bg-color);\n",
              "    border: none;\n",
              "    border-radius: 50%;\n",
              "    cursor: pointer;\n",
              "    display: none;\n",
              "    fill: var(--fill-color);\n",
              "    height: 32px;\n",
              "    padding: 0;\n",
              "    width: 32px;\n",
              "  }\n",
              "\n",
              "  .colab-df-quickchart:hover {\n",
              "    background-color: var(--hover-bg-color);\n",
              "    box-shadow: 0 1px 2px rgba(60, 64, 67, 0.3), 0 1px 3px 1px rgba(60, 64, 67, 0.15);\n",
              "    fill: var(--button-hover-fill-color);\n",
              "  }\n",
              "\n",
              "  .colab-df-quickchart-complete:disabled,\n",
              "  .colab-df-quickchart-complete:disabled:hover {\n",
              "    background-color: var(--disabled-bg-color);\n",
              "    fill: var(--disabled-fill-color);\n",
              "    box-shadow: none;\n",
              "  }\n",
              "\n",
              "  .colab-df-spinner {\n",
              "    border: 2px solid var(--fill-color);\n",
              "    border-color: transparent;\n",
              "    border-bottom-color: var(--fill-color);\n",
              "    animation:\n",
              "      spin 1s steps(1) infinite;\n",
              "  }\n",
              "\n",
              "  @keyframes spin {\n",
              "    0% {\n",
              "      border-color: transparent;\n",
              "      border-bottom-color: var(--fill-color);\n",
              "      border-left-color: var(--fill-color);\n",
              "    }\n",
              "    20% {\n",
              "      border-color: transparent;\n",
              "      border-left-color: var(--fill-color);\n",
              "      border-top-color: var(--fill-color);\n",
              "    }\n",
              "    30% {\n",
              "      border-color: transparent;\n",
              "      border-left-color: var(--fill-color);\n",
              "      border-top-color: var(--fill-color);\n",
              "      border-right-color: var(--fill-color);\n",
              "    }\n",
              "    40% {\n",
              "      border-color: transparent;\n",
              "      border-right-color: var(--fill-color);\n",
              "      border-top-color: var(--fill-color);\n",
              "    }\n",
              "    60% {\n",
              "      border-color: transparent;\n",
              "      border-right-color: var(--fill-color);\n",
              "    }\n",
              "    80% {\n",
              "      border-color: transparent;\n",
              "      border-right-color: var(--fill-color);\n",
              "      border-bottom-color: var(--fill-color);\n",
              "    }\n",
              "    90% {\n",
              "      border-color: transparent;\n",
              "      border-bottom-color: var(--fill-color);\n",
              "    }\n",
              "  }\n",
              "</style>\n",
              "\n",
              "  <script>\n",
              "    async function quickchart(key) {\n",
              "      const quickchartButtonEl =\n",
              "        document.querySelector('#' + key + ' button');\n",
              "      quickchartButtonEl.disabled = true;  // To prevent multiple clicks.\n",
              "      quickchartButtonEl.classList.add('colab-df-spinner');\n",
              "      try {\n",
              "        const charts = await google.colab.kernel.invokeFunction(\n",
              "            'suggestCharts', [key], {});\n",
              "      } catch (error) {\n",
              "        console.error('Error during call to suggestCharts:', error);\n",
              "      }\n",
              "      quickchartButtonEl.classList.remove('colab-df-spinner');\n",
              "      quickchartButtonEl.classList.add('colab-df-quickchart-complete');\n",
              "    }\n",
              "    (() => {\n",
              "      let quickchartButtonEl =\n",
              "        document.querySelector('#df-dceff851-4df1-490c-a299-4537300203ab button');\n",
              "      quickchartButtonEl.style.display =\n",
              "        google.colab.kernel.accessAllowed ? 'block' : 'none';\n",
              "    })();\n",
              "  </script>\n",
              "</div>\n",
              "    </div>\n",
              "  </div>\n"
            ]
          },
          "metadata": {},
          "execution_count": 58
        }
      ]
    },
    {
      "cell_type": "markdown",
      "source": [
        "# **Data Preprocessing**"
      ],
      "metadata": {
        "id": "O7G7sPauS1-_"
      }
    },
    {
      "cell_type": "code",
      "source": [
        "df.shape"
      ],
      "metadata": {
        "id": "Sv8lyWvHQYQC",
        "outputId": "d1257254-c603-4518-f0b0-6fd875bdc6dd",
        "colab": {
          "base_uri": "https://localhost:8080/"
        }
      },
      "execution_count": 42,
      "outputs": [
        {
          "output_type": "execute_result",
          "data": {
            "text/plain": [
              "(7043, 16)"
            ]
          },
          "metadata": {},
          "execution_count": 42
        }
      ]
    },
    {
      "cell_type": "code",
      "source": [
        "df.astype"
      ],
      "metadata": {
        "colab": {
          "base_uri": "https://localhost:8080/"
        },
        "id": "YBBPW4cgaOp_",
        "outputId": "a7b5bc37-d376-4b89-9ba8-34cd22718dc2"
      },
      "execution_count": 30,
      "outputs": [
        {
          "output_type": "execute_result",
          "data": {
            "text/plain": [
              "<bound method NDFrame.astype of       Customer ID  Tenure Months Location Device Class        Games Product  \\\n",
              "0               0              2  Jakarta      Mid End                  Yes   \n",
              "1               1              2  Jakarta     High End                   No   \n",
              "2               2              8  Jakarta     High End                   No   \n",
              "3               3             28  Jakarta     High End                   No   \n",
              "4               4             49  Jakarta     High End                   No   \n",
              "...           ...            ...      ...          ...                  ...   \n",
              "7038         7038             72  Jakarta      Low End  No internet service   \n",
              "7039         7039             24  Jakarta      Mid End                  Yes   \n",
              "7040         7040             72  Jakarta     High End                   No   \n",
              "7041         7041             11  Jakarta      Mid End                  Yes   \n",
              "7042         7042             66  Jakarta     High End                  Yes   \n",
              "\n",
              "            Music Product    Education Product Call Center  \\\n",
              "0                     Yes                   No          No   \n",
              "1                      No                   No          No   \n",
              "2                      No                  Yes          No   \n",
              "3                      No                  Yes         Yes   \n",
              "4                     Yes                  Yes          No   \n",
              "...                   ...                  ...         ...   \n",
              "7038  No internet service  No internet service          No   \n",
              "7039                   No                  Yes         Yes   \n",
              "7040                  Yes                  Yes          No   \n",
              "7041                   No                   No          No   \n",
              "7042                   No                  Yes         Yes   \n",
              "\n",
              "            Video Product            Use MyApp  Payment Method  \\\n",
              "0                      No                   No  Digital Wallet   \n",
              "1                      No                   No           Pulsa   \n",
              "2                     Yes                  Yes           Pulsa   \n",
              "3                     Yes                  Yes           Pulsa   \n",
              "4                     Yes                  Yes           Debit   \n",
              "...                   ...                  ...             ...   \n",
              "7038  No internet service  No internet service           Debit   \n",
              "7039                  Yes                  Yes  Digital Wallet   \n",
              "7040                  Yes                  Yes          Credit   \n",
              "7041                   No                   No           Pulsa   \n",
              "7042                  Yes                  Yes           Debit   \n",
              "\n",
              "     Monthly Purchase (Thou. IDR) Churn Label  Longitude  Latitude  \\\n",
              "0                          70,005         Yes  106,81667  -6,20000   \n",
              "1                           91,91         Yes  106,81667  -6,20000   \n",
              "2                         129,545         Yes  106,81667  -6,20000   \n",
              "3                          136,24         Yes  106,81667  -6,20000   \n",
              "4                          134,81         Yes  106,81667  -6,20000   \n",
              "...                           ...         ...        ...       ...   \n",
              "7038                       27,495          No  106,81667  -6,20000   \n",
              "7039                       110,24          No  106,81667  -6,20000   \n",
              "7040                       134,16          No  106,81667  -6,20000   \n",
              "7041                        38,48          No  106,81667  -6,20000   \n",
              "7042                      137,345          No  106,81667  -6,20000   \n",
              "\n",
              "     CLTV (Predicted Thou. IDR)  \n",
              "0                        4210,7  \n",
              "1                        3511,3  \n",
              "2                        6983,6  \n",
              "3                        6503,9  \n",
              "4                          6942  \n",
              "...                         ...  \n",
              "7038                     6897,8  \n",
              "7039                       2782  \n",
              "7040                       7228  \n",
              "7041                     3630,9  \n",
              "7042                     6626,1  \n",
              "\n",
              "[7043 rows x 16 columns]>"
            ]
          },
          "metadata": {},
          "execution_count": 30
        }
      ]
    },
    {
      "cell_type": "code",
      "source": [
        "# cek kolom null\n",
        "print(df.isnull().sum())"
      ],
      "metadata": {
        "colab": {
          "base_uri": "https://localhost:8080/"
        },
        "id": "fdYc6sw8Stiz",
        "outputId": "69b68068-6986-4a49-88d5-a48767bcdfd4"
      },
      "execution_count": 27,
      "outputs": [
        {
          "output_type": "stream",
          "name": "stdout",
          "text": [
            "Customer ID                     0\n",
            "Tenure Months                   0\n",
            "Location                        0\n",
            "Device Class                    0\n",
            "Games Product                   0\n",
            "Music Product                   0\n",
            "Education Product               0\n",
            "Call Center                     0\n",
            "Video Product                   0\n",
            "Use MyApp                       0\n",
            "Payment Method                  0\n",
            "Monthly Purchase (Thou. IDR)    0\n",
            "Churn Label                     0\n",
            "Longitude                       0\n",
            "Latitude                        0\n",
            "CLTV (Predicted Thou. IDR)      0\n",
            "dtype: int64\n"
          ]
        }
      ]
    },
    {
      "cell_type": "code",
      "source": [
        "kolomcv = ['Monthly Purchase (Thou. IDR)', 'Longitude', 'Latitude', 'CLTV (Predicted Thou. IDR)']\n",
        "\n",
        "# menghilangkan koma pada kolom Monthly Purchase (Thou. IDR)\n",
        "df[kolomcv] = df[kolomcv].apply(lambda x: x.str.replace(',', '.')).astype(float)\n",
        "\n",
        "# convert kolom 'Monthly Purchase (Thou. IDR)' ke float\n",
        "# df[kolomcv] = df[kolomcv].astype(float)"
      ],
      "metadata": {
        "id": "hnM_3SfaYvmd"
      },
      "execution_count": 43,
      "outputs": []
    },
    {
      "cell_type": "code",
      "source": [
        "# Drop kolom customerID\n",
        "df.drop('Customer ID', axis=1, inplace=True)"
      ],
      "metadata": {
        "id": "8hzpqxbsTPSx"
      },
      "execution_count": 44,
      "outputs": []
    },
    {
      "cell_type": "code",
      "source": [
        "# mengubah data categorical variables ke numerical variables\n",
        "df = pd.get_dummies(df, columns=['Location', 'Device Class', 'Games Product', 'Music Product',\n",
        "                                 'Education Product', 'Call Center', 'Video Product',\n",
        "                                 'Use MyApp', 'Payment Method'])"
      ],
      "metadata": {
        "id": "I6MoAo58TbsQ"
      },
      "execution_count": 45,
      "outputs": []
    },
    {
      "cell_type": "code",
      "source": [
        "df.head()"
      ],
      "metadata": {
        "colab": {
          "base_uri": "https://localhost:8080/",
          "height": 308
        },
        "id": "GPIZazJJW9Kl",
        "outputId": "ee993032-e071-4e67-cf13-46828d2b3e1c"
      },
      "execution_count": 46,
      "outputs": [
        {
          "output_type": "execute_result",
          "data": {
            "text/plain": [
              "   Tenure Months  Monthly Purchase (Thou. IDR) Churn Label  Longitude  \\\n",
              "0              2                        70.005         Yes  106.81667   \n",
              "1              2                        91.910         Yes  106.81667   \n",
              "2              8                       129.545         Yes  106.81667   \n",
              "3             28                       136.240         Yes  106.81667   \n",
              "4             49                       134.810         Yes  106.81667   \n",
              "\n",
              "   Latitude  CLTV (Predicted Thou. IDR)  Location_Bandung  Location_Jakarta  \\\n",
              "0      -6.2                      4210.7                 0                 1   \n",
              "1      -6.2                      3511.3                 0                 1   \n",
              "2      -6.2                      6983.6                 0                 1   \n",
              "3      -6.2                      6503.9                 0                 1   \n",
              "4      -6.2                      6942.0                 0                 1   \n",
              "\n",
              "   Device Class_High End  Device Class_Low End  ...  Video Product_No  \\\n",
              "0                      0                     0  ...                 1   \n",
              "1                      1                     0  ...                 1   \n",
              "2                      1                     0  ...                 0   \n",
              "3                      1                     0  ...                 0   \n",
              "4                      1                     0  ...                 0   \n",
              "\n",
              "   Video Product_No internet service  Video Product_Yes  Use MyApp_No  \\\n",
              "0                                  0                  0             1   \n",
              "1                                  0                  0             1   \n",
              "2                                  0                  1             0   \n",
              "3                                  0                  1             0   \n",
              "4                                  0                  1             0   \n",
              "\n",
              "   Use MyApp_No internet service  Use MyApp_Yes  Payment Method_Credit  \\\n",
              "0                              0              0                      0   \n",
              "1                              0              0                      0   \n",
              "2                              0              1                      0   \n",
              "3                              0              1                      0   \n",
              "4                              0              1                      0   \n",
              "\n",
              "   Payment Method_Debit  Payment Method_Digital Wallet  Payment Method_Pulsa  \n",
              "0                     0                              1                     0  \n",
              "1                     0                              0                     1  \n",
              "2                     0                              0                     1  \n",
              "3                     0                              0                     1  \n",
              "4                     1                              0                     0  \n",
              "\n",
              "[5 rows x 32 columns]"
            ],
            "text/html": [
              "\n",
              "  <div id=\"df-468b6264-12f7-450c-96af-60418f71848c\" class=\"colab-df-container\">\n",
              "    <div>\n",
              "<style scoped>\n",
              "    .dataframe tbody tr th:only-of-type {\n",
              "        vertical-align: middle;\n",
              "    }\n",
              "\n",
              "    .dataframe tbody tr th {\n",
              "        vertical-align: top;\n",
              "    }\n",
              "\n",
              "    .dataframe thead th {\n",
              "        text-align: right;\n",
              "    }\n",
              "</style>\n",
              "<table border=\"1\" class=\"dataframe\">\n",
              "  <thead>\n",
              "    <tr style=\"text-align: right;\">\n",
              "      <th></th>\n",
              "      <th>Tenure Months</th>\n",
              "      <th>Monthly Purchase (Thou. IDR)</th>\n",
              "      <th>Churn Label</th>\n",
              "      <th>Longitude</th>\n",
              "      <th>Latitude</th>\n",
              "      <th>CLTV (Predicted Thou. IDR)</th>\n",
              "      <th>Location_Bandung</th>\n",
              "      <th>Location_Jakarta</th>\n",
              "      <th>Device Class_High End</th>\n",
              "      <th>Device Class_Low End</th>\n",
              "      <th>...</th>\n",
              "      <th>Video Product_No</th>\n",
              "      <th>Video Product_No internet service</th>\n",
              "      <th>Video Product_Yes</th>\n",
              "      <th>Use MyApp_No</th>\n",
              "      <th>Use MyApp_No internet service</th>\n",
              "      <th>Use MyApp_Yes</th>\n",
              "      <th>Payment Method_Credit</th>\n",
              "      <th>Payment Method_Debit</th>\n",
              "      <th>Payment Method_Digital Wallet</th>\n",
              "      <th>Payment Method_Pulsa</th>\n",
              "    </tr>\n",
              "  </thead>\n",
              "  <tbody>\n",
              "    <tr>\n",
              "      <th>0</th>\n",
              "      <td>2</td>\n",
              "      <td>70.005</td>\n",
              "      <td>Yes</td>\n",
              "      <td>106.81667</td>\n",
              "      <td>-6.2</td>\n",
              "      <td>4210.7</td>\n",
              "      <td>0</td>\n",
              "      <td>1</td>\n",
              "      <td>0</td>\n",
              "      <td>0</td>\n",
              "      <td>...</td>\n",
              "      <td>1</td>\n",
              "      <td>0</td>\n",
              "      <td>0</td>\n",
              "      <td>1</td>\n",
              "      <td>0</td>\n",
              "      <td>0</td>\n",
              "      <td>0</td>\n",
              "      <td>0</td>\n",
              "      <td>1</td>\n",
              "      <td>0</td>\n",
              "    </tr>\n",
              "    <tr>\n",
              "      <th>1</th>\n",
              "      <td>2</td>\n",
              "      <td>91.910</td>\n",
              "      <td>Yes</td>\n",
              "      <td>106.81667</td>\n",
              "      <td>-6.2</td>\n",
              "      <td>3511.3</td>\n",
              "      <td>0</td>\n",
              "      <td>1</td>\n",
              "      <td>1</td>\n",
              "      <td>0</td>\n",
              "      <td>...</td>\n",
              "      <td>1</td>\n",
              "      <td>0</td>\n",
              "      <td>0</td>\n",
              "      <td>1</td>\n",
              "      <td>0</td>\n",
              "      <td>0</td>\n",
              "      <td>0</td>\n",
              "      <td>0</td>\n",
              "      <td>0</td>\n",
              "      <td>1</td>\n",
              "    </tr>\n",
              "    <tr>\n",
              "      <th>2</th>\n",
              "      <td>8</td>\n",
              "      <td>129.545</td>\n",
              "      <td>Yes</td>\n",
              "      <td>106.81667</td>\n",
              "      <td>-6.2</td>\n",
              "      <td>6983.6</td>\n",
              "      <td>0</td>\n",
              "      <td>1</td>\n",
              "      <td>1</td>\n",
              "      <td>0</td>\n",
              "      <td>...</td>\n",
              "      <td>0</td>\n",
              "      <td>0</td>\n",
              "      <td>1</td>\n",
              "      <td>0</td>\n",
              "      <td>0</td>\n",
              "      <td>1</td>\n",
              "      <td>0</td>\n",
              "      <td>0</td>\n",
              "      <td>0</td>\n",
              "      <td>1</td>\n",
              "    </tr>\n",
              "    <tr>\n",
              "      <th>3</th>\n",
              "      <td>28</td>\n",
              "      <td>136.240</td>\n",
              "      <td>Yes</td>\n",
              "      <td>106.81667</td>\n",
              "      <td>-6.2</td>\n",
              "      <td>6503.9</td>\n",
              "      <td>0</td>\n",
              "      <td>1</td>\n",
              "      <td>1</td>\n",
              "      <td>0</td>\n",
              "      <td>...</td>\n",
              "      <td>0</td>\n",
              "      <td>0</td>\n",
              "      <td>1</td>\n",
              "      <td>0</td>\n",
              "      <td>0</td>\n",
              "      <td>1</td>\n",
              "      <td>0</td>\n",
              "      <td>0</td>\n",
              "      <td>0</td>\n",
              "      <td>1</td>\n",
              "    </tr>\n",
              "    <tr>\n",
              "      <th>4</th>\n",
              "      <td>49</td>\n",
              "      <td>134.810</td>\n",
              "      <td>Yes</td>\n",
              "      <td>106.81667</td>\n",
              "      <td>-6.2</td>\n",
              "      <td>6942.0</td>\n",
              "      <td>0</td>\n",
              "      <td>1</td>\n",
              "      <td>1</td>\n",
              "      <td>0</td>\n",
              "      <td>...</td>\n",
              "      <td>0</td>\n",
              "      <td>0</td>\n",
              "      <td>1</td>\n",
              "      <td>0</td>\n",
              "      <td>0</td>\n",
              "      <td>1</td>\n",
              "      <td>0</td>\n",
              "      <td>1</td>\n",
              "      <td>0</td>\n",
              "      <td>0</td>\n",
              "    </tr>\n",
              "  </tbody>\n",
              "</table>\n",
              "<p>5 rows × 32 columns</p>\n",
              "</div>\n",
              "    <div class=\"colab-df-buttons\">\n",
              "\n",
              "  <div class=\"colab-df-container\">\n",
              "    <button class=\"colab-df-convert\" onclick=\"convertToInteractive('df-468b6264-12f7-450c-96af-60418f71848c')\"\n",
              "            title=\"Convert this dataframe to an interactive table.\"\n",
              "            style=\"display:none;\">\n",
              "\n",
              "  <svg xmlns=\"http://www.w3.org/2000/svg\" height=\"24px\" viewBox=\"0 -960 960 960\">\n",
              "    <path d=\"M120-120v-720h720v720H120Zm60-500h600v-160H180v160Zm220 220h160v-160H400v160Zm0 220h160v-160H400v160ZM180-400h160v-160H180v160Zm440 0h160v-160H620v160ZM180-180h160v-160H180v160Zm440 0h160v-160H620v160Z\"/>\n",
              "  </svg>\n",
              "    </button>\n",
              "\n",
              "  <style>\n",
              "    .colab-df-container {\n",
              "      display:flex;\n",
              "      gap: 12px;\n",
              "    }\n",
              "\n",
              "    .colab-df-convert {\n",
              "      background-color: #E8F0FE;\n",
              "      border: none;\n",
              "      border-radius: 50%;\n",
              "      cursor: pointer;\n",
              "      display: none;\n",
              "      fill: #1967D2;\n",
              "      height: 32px;\n",
              "      padding: 0 0 0 0;\n",
              "      width: 32px;\n",
              "    }\n",
              "\n",
              "    .colab-df-convert:hover {\n",
              "      background-color: #E2EBFA;\n",
              "      box-shadow: 0px 1px 2px rgba(60, 64, 67, 0.3), 0px 1px 3px 1px rgba(60, 64, 67, 0.15);\n",
              "      fill: #174EA6;\n",
              "    }\n",
              "\n",
              "    .colab-df-buttons div {\n",
              "      margin-bottom: 4px;\n",
              "    }\n",
              "\n",
              "    [theme=dark] .colab-df-convert {\n",
              "      background-color: #3B4455;\n",
              "      fill: #D2E3FC;\n",
              "    }\n",
              "\n",
              "    [theme=dark] .colab-df-convert:hover {\n",
              "      background-color: #434B5C;\n",
              "      box-shadow: 0px 1px 3px 1px rgba(0, 0, 0, 0.15);\n",
              "      filter: drop-shadow(0px 1px 2px rgba(0, 0, 0, 0.3));\n",
              "      fill: #FFFFFF;\n",
              "    }\n",
              "  </style>\n",
              "\n",
              "    <script>\n",
              "      const buttonEl =\n",
              "        document.querySelector('#df-468b6264-12f7-450c-96af-60418f71848c button.colab-df-convert');\n",
              "      buttonEl.style.display =\n",
              "        google.colab.kernel.accessAllowed ? 'block' : 'none';\n",
              "\n",
              "      async function convertToInteractive(key) {\n",
              "        const element = document.querySelector('#df-468b6264-12f7-450c-96af-60418f71848c');\n",
              "        const dataTable =\n",
              "          await google.colab.kernel.invokeFunction('convertToInteractive',\n",
              "                                                    [key], {});\n",
              "        if (!dataTable) return;\n",
              "\n",
              "        const docLinkHtml = 'Like what you see? Visit the ' +\n",
              "          '<a target=\"_blank\" href=https://colab.research.google.com/notebooks/data_table.ipynb>data table notebook</a>'\n",
              "          + ' to learn more about interactive tables.';\n",
              "        element.innerHTML = '';\n",
              "        dataTable['output_type'] = 'display_data';\n",
              "        await google.colab.output.renderOutput(dataTable, element);\n",
              "        const docLink = document.createElement('div');\n",
              "        docLink.innerHTML = docLinkHtml;\n",
              "        element.appendChild(docLink);\n",
              "      }\n",
              "    </script>\n",
              "  </div>\n",
              "\n",
              "\n",
              "<div id=\"df-77e601cf-2902-4e81-b6ed-3bdb3dbcba8d\">\n",
              "  <button class=\"colab-df-quickchart\" onclick=\"quickchart('df-77e601cf-2902-4e81-b6ed-3bdb3dbcba8d')\"\n",
              "            title=\"Suggest charts\"\n",
              "            style=\"display:none;\">\n",
              "\n",
              "<svg xmlns=\"http://www.w3.org/2000/svg\" height=\"24px\"viewBox=\"0 0 24 24\"\n",
              "     width=\"24px\">\n",
              "    <g>\n",
              "        <path d=\"M19 3H5c-1.1 0-2 .9-2 2v14c0 1.1.9 2 2 2h14c1.1 0 2-.9 2-2V5c0-1.1-.9-2-2-2zM9 17H7v-7h2v7zm4 0h-2V7h2v10zm4 0h-2v-4h2v4z\"/>\n",
              "    </g>\n",
              "</svg>\n",
              "  </button>\n",
              "\n",
              "<style>\n",
              "  .colab-df-quickchart {\n",
              "      --bg-color: #E8F0FE;\n",
              "      --fill-color: #1967D2;\n",
              "      --hover-bg-color: #E2EBFA;\n",
              "      --hover-fill-color: #174EA6;\n",
              "      --disabled-fill-color: #AAA;\n",
              "      --disabled-bg-color: #DDD;\n",
              "  }\n",
              "\n",
              "  [theme=dark] .colab-df-quickchart {\n",
              "      --bg-color: #3B4455;\n",
              "      --fill-color: #D2E3FC;\n",
              "      --hover-bg-color: #434B5C;\n",
              "      --hover-fill-color: #FFFFFF;\n",
              "      --disabled-bg-color: #3B4455;\n",
              "      --disabled-fill-color: #666;\n",
              "  }\n",
              "\n",
              "  .colab-df-quickchart {\n",
              "    background-color: var(--bg-color);\n",
              "    border: none;\n",
              "    border-radius: 50%;\n",
              "    cursor: pointer;\n",
              "    display: none;\n",
              "    fill: var(--fill-color);\n",
              "    height: 32px;\n",
              "    padding: 0;\n",
              "    width: 32px;\n",
              "  }\n",
              "\n",
              "  .colab-df-quickchart:hover {\n",
              "    background-color: var(--hover-bg-color);\n",
              "    box-shadow: 0 1px 2px rgba(60, 64, 67, 0.3), 0 1px 3px 1px rgba(60, 64, 67, 0.15);\n",
              "    fill: var(--button-hover-fill-color);\n",
              "  }\n",
              "\n",
              "  .colab-df-quickchart-complete:disabled,\n",
              "  .colab-df-quickchart-complete:disabled:hover {\n",
              "    background-color: var(--disabled-bg-color);\n",
              "    fill: var(--disabled-fill-color);\n",
              "    box-shadow: none;\n",
              "  }\n",
              "\n",
              "  .colab-df-spinner {\n",
              "    border: 2px solid var(--fill-color);\n",
              "    border-color: transparent;\n",
              "    border-bottom-color: var(--fill-color);\n",
              "    animation:\n",
              "      spin 1s steps(1) infinite;\n",
              "  }\n",
              "\n",
              "  @keyframes spin {\n",
              "    0% {\n",
              "      border-color: transparent;\n",
              "      border-bottom-color: var(--fill-color);\n",
              "      border-left-color: var(--fill-color);\n",
              "    }\n",
              "    20% {\n",
              "      border-color: transparent;\n",
              "      border-left-color: var(--fill-color);\n",
              "      border-top-color: var(--fill-color);\n",
              "    }\n",
              "    30% {\n",
              "      border-color: transparent;\n",
              "      border-left-color: var(--fill-color);\n",
              "      border-top-color: var(--fill-color);\n",
              "      border-right-color: var(--fill-color);\n",
              "    }\n",
              "    40% {\n",
              "      border-color: transparent;\n",
              "      border-right-color: var(--fill-color);\n",
              "      border-top-color: var(--fill-color);\n",
              "    }\n",
              "    60% {\n",
              "      border-color: transparent;\n",
              "      border-right-color: var(--fill-color);\n",
              "    }\n",
              "    80% {\n",
              "      border-color: transparent;\n",
              "      border-right-color: var(--fill-color);\n",
              "      border-bottom-color: var(--fill-color);\n",
              "    }\n",
              "    90% {\n",
              "      border-color: transparent;\n",
              "      border-bottom-color: var(--fill-color);\n",
              "    }\n",
              "  }\n",
              "</style>\n",
              "\n",
              "  <script>\n",
              "    async function quickchart(key) {\n",
              "      const quickchartButtonEl =\n",
              "        document.querySelector('#' + key + ' button');\n",
              "      quickchartButtonEl.disabled = true;  // To prevent multiple clicks.\n",
              "      quickchartButtonEl.classList.add('colab-df-spinner');\n",
              "      try {\n",
              "        const charts = await google.colab.kernel.invokeFunction(\n",
              "            'suggestCharts', [key], {});\n",
              "      } catch (error) {\n",
              "        console.error('Error during call to suggestCharts:', error);\n",
              "      }\n",
              "      quickchartButtonEl.classList.remove('colab-df-spinner');\n",
              "      quickchartButtonEl.classList.add('colab-df-quickchart-complete');\n",
              "    }\n",
              "    (() => {\n",
              "      let quickchartButtonEl =\n",
              "        document.querySelector('#df-77e601cf-2902-4e81-b6ed-3bdb3dbcba8d button');\n",
              "      quickchartButtonEl.style.display =\n",
              "        google.colab.kernel.accessAllowed ? 'block' : 'none';\n",
              "    })();\n",
              "  </script>\n",
              "</div>\n",
              "    </div>\n",
              "  </div>\n"
            ]
          },
          "metadata": {},
          "execution_count": 46
        }
      ]
    },
    {
      "cell_type": "markdown",
      "source": [
        "# **Membuat Model Training dan Testing**"
      ],
      "metadata": {
        "id": "k9TUruvMSpL_"
      }
    },
    {
      "cell_type": "code",
      "source": [
        "# split data menjadi data training dan testing dengan perbandingan 80:20\n",
        "X = df.drop('Churn Label', axis=1)\n",
        "y = df['Churn Label']\n",
        "X_train, X_test, y_train, y_test = train_test_split(X, y, test_size=0.2, random_state=42)"
      ],
      "metadata": {
        "id": "mu6YMaO9Ts1G"
      },
      "execution_count": 47,
      "outputs": []
    },
    {
      "cell_type": "code",
      "source": [
        "# Scale the features dengan StandardScaler\n",
        "scaler = StandardScaler()\n",
        "X_train = scaler.fit_transform(X_train)\n",
        "X_test = scaler.transform(X_test)"
      ],
      "metadata": {
        "id": "W_M8LGKIdPIE"
      },
      "execution_count": 48,
      "outputs": []
    },
    {
      "cell_type": "code",
      "source": [
        "# train dengan algoritma logistic regression\n",
        "lr = LogisticRegression()\n",
        "lr.fit(X_train, y_train)"
      ],
      "metadata": {
        "colab": {
          "base_uri": "https://localhost:8080/",
          "height": 75
        },
        "id": "KGC66M_9XsDh",
        "outputId": "93df5324-8f47-45cd-bf88-271ffe85fdb4"
      },
      "execution_count": 49,
      "outputs": [
        {
          "output_type": "execute_result",
          "data": {
            "text/plain": [
              "LogisticRegression()"
            ],
            "text/html": [
              "<style>#sk-container-id-2 {color: black;background-color: white;}#sk-container-id-2 pre{padding: 0;}#sk-container-id-2 div.sk-toggleable {background-color: white;}#sk-container-id-2 label.sk-toggleable__label {cursor: pointer;display: block;width: 100%;margin-bottom: 0;padding: 0.3em;box-sizing: border-box;text-align: center;}#sk-container-id-2 label.sk-toggleable__label-arrow:before {content: \"▸\";float: left;margin-right: 0.25em;color: #696969;}#sk-container-id-2 label.sk-toggleable__label-arrow:hover:before {color: black;}#sk-container-id-2 div.sk-estimator:hover label.sk-toggleable__label-arrow:before {color: black;}#sk-container-id-2 div.sk-toggleable__content {max-height: 0;max-width: 0;overflow: hidden;text-align: left;background-color: #f0f8ff;}#sk-container-id-2 div.sk-toggleable__content pre {margin: 0.2em;color: black;border-radius: 0.25em;background-color: #f0f8ff;}#sk-container-id-2 input.sk-toggleable__control:checked~div.sk-toggleable__content {max-height: 200px;max-width: 100%;overflow: auto;}#sk-container-id-2 input.sk-toggleable__control:checked~label.sk-toggleable__label-arrow:before {content: \"▾\";}#sk-container-id-2 div.sk-estimator input.sk-toggleable__control:checked~label.sk-toggleable__label {background-color: #d4ebff;}#sk-container-id-2 div.sk-label input.sk-toggleable__control:checked~label.sk-toggleable__label {background-color: #d4ebff;}#sk-container-id-2 input.sk-hidden--visually {border: 0;clip: rect(1px 1px 1px 1px);clip: rect(1px, 1px, 1px, 1px);height: 1px;margin: -1px;overflow: hidden;padding: 0;position: absolute;width: 1px;}#sk-container-id-2 div.sk-estimator {font-family: monospace;background-color: #f0f8ff;border: 1px dotted black;border-radius: 0.25em;box-sizing: border-box;margin-bottom: 0.5em;}#sk-container-id-2 div.sk-estimator:hover {background-color: #d4ebff;}#sk-container-id-2 div.sk-parallel-item::after {content: \"\";width: 100%;border-bottom: 1px solid gray;flex-grow: 1;}#sk-container-id-2 div.sk-label:hover label.sk-toggleable__label {background-color: #d4ebff;}#sk-container-id-2 div.sk-serial::before {content: \"\";position: absolute;border-left: 1px solid gray;box-sizing: border-box;top: 0;bottom: 0;left: 50%;z-index: 0;}#sk-container-id-2 div.sk-serial {display: flex;flex-direction: column;align-items: center;background-color: white;padding-right: 0.2em;padding-left: 0.2em;position: relative;}#sk-container-id-2 div.sk-item {position: relative;z-index: 1;}#sk-container-id-2 div.sk-parallel {display: flex;align-items: stretch;justify-content: center;background-color: white;position: relative;}#sk-container-id-2 div.sk-item::before, #sk-container-id-2 div.sk-parallel-item::before {content: \"\";position: absolute;border-left: 1px solid gray;box-sizing: border-box;top: 0;bottom: 0;left: 50%;z-index: -1;}#sk-container-id-2 div.sk-parallel-item {display: flex;flex-direction: column;z-index: 1;position: relative;background-color: white;}#sk-container-id-2 div.sk-parallel-item:first-child::after {align-self: flex-end;width: 50%;}#sk-container-id-2 div.sk-parallel-item:last-child::after {align-self: flex-start;width: 50%;}#sk-container-id-2 div.sk-parallel-item:only-child::after {width: 0;}#sk-container-id-2 div.sk-dashed-wrapped {border: 1px dashed gray;margin: 0 0.4em 0.5em 0.4em;box-sizing: border-box;padding-bottom: 0.4em;background-color: white;}#sk-container-id-2 div.sk-label label {font-family: monospace;font-weight: bold;display: inline-block;line-height: 1.2em;}#sk-container-id-2 div.sk-label-container {text-align: center;}#sk-container-id-2 div.sk-container {/* jupyter's `normalize.less` sets `[hidden] { display: none; }` but bootstrap.min.css set `[hidden] { display: none !important; }` so we also need the `!important` here to be able to override the default hidden behavior on the sphinx rendered scikit-learn.org. See: https://github.com/scikit-learn/scikit-learn/issues/21755 */display: inline-block !important;position: relative;}#sk-container-id-2 div.sk-text-repr-fallback {display: none;}</style><div id=\"sk-container-id-2\" class=\"sk-top-container\"><div class=\"sk-text-repr-fallback\"><pre>LogisticRegression()</pre><b>In a Jupyter environment, please rerun this cell to show the HTML representation or trust the notebook. <br />On GitHub, the HTML representation is unable to render, please try loading this page with nbviewer.org.</b></div><div class=\"sk-container\" hidden><div class=\"sk-item\"><div class=\"sk-estimator sk-toggleable\"><input class=\"sk-toggleable__control sk-hidden--visually\" id=\"sk-estimator-id-2\" type=\"checkbox\" checked><label for=\"sk-estimator-id-2\" class=\"sk-toggleable__label sk-toggleable__label-arrow\">LogisticRegression</label><div class=\"sk-toggleable__content\"><pre>LogisticRegression()</pre></div></div></div></div></div>"
            ]
          },
          "metadata": {},
          "execution_count": 49
        }
      ]
    },
    {
      "cell_type": "markdown",
      "source": [
        "# **Evaluasi**"
      ],
      "metadata": {
        "id": "llCVd_1XbK8m"
      }
    },
    {
      "cell_type": "code",
      "source": [
        "# evaluasi model\n",
        "y_pred = lr.predict(X_test)\n",
        "print('Accuracy:', accuracy_score(y_test, y_pred))"
      ],
      "metadata": {
        "colab": {
          "base_uri": "https://localhost:8080/"
        },
        "id": "ydfyAyI5bYx3",
        "outputId": "bdd2fcda-5476-4567-abf3-882efebed067"
      },
      "execution_count": 51,
      "outputs": [
        {
          "output_type": "stream",
          "name": "stdout",
          "text": [
            "Accuracy: 0.7899219304471257\n"
          ]
        }
      ]
    },
    {
      "cell_type": "code",
      "source": [
        "print('Training score:', lr.score(X_train, y_train))\n",
        "print('Testing score:', lr.score(X_test, y_test))"
      ],
      "metadata": {
        "colab": {
          "base_uri": "https://localhost:8080/"
        },
        "id": "hTuZbX8Xdhde",
        "outputId": "2a45c68d-9050-452b-f183-8db586fd914c"
      },
      "execution_count": 52,
      "outputs": [
        {
          "output_type": "stream",
          "name": "stdout",
          "text": [
            "Training score: 0.7981895633652822\n",
            "Testing score: 0.7899219304471257\n"
          ]
        }
      ]
    },
    {
      "cell_type": "markdown",
      "source": [
        "\n",
        "\n",
        "---\n",
        "\n",
        "\n",
        "# **Visualisasi**\n",
        "**Menggunakan library seaborn**\n",
        "\n",
        "**Churn = Berhenti Berlangganan**"
      ],
      "metadata": {
        "id": "5smQosdvdsEY"
      }
    },
    {
      "cell_type": "markdown",
      "source": [
        "**Diagram batang untuk menunjukkan jumlah pelanggan churn dan tidak churn**"
      ],
      "metadata": {
        "id": "FOR5VgN0eA1S"
      }
    },
    {
      "cell_type": "code",
      "source": [
        "import seaborn as sns\n",
        "import matplotlib.pyplot as plt\n",
        "\n",
        "sns.countplot(x='Churn Label', data=df)\n",
        "plt.title('Jumlah Pelanggan Churn dan Tidak Churn')\n",
        "plt.xlabel('Berhenti Berlangganan')\n",
        "plt.ylabel('Jumlah Pelanggan')\n",
        "plt.show()"
      ],
      "metadata": {
        "id": "_oytDdcjd2uQ",
        "outputId": "a12795a0-8dcb-41d4-f785-2da266d8cb45",
        "colab": {
          "base_uri": "https://localhost:8080/",
          "height": 472
        }
      },
      "execution_count": 57,
      "outputs": [
        {
          "output_type": "display_data",
          "data": {
            "text/plain": [
              "<Figure size 640x480 with 1 Axes>"
            ],
            "image/png": "[encoded data removed]"
          },
          "metadata": {}
        }
      ]
    },
    {
      "cell_type": "markdown",
      "source": [
        "**Diagram lingkaran untuk menunjukkan proporsi pelanggan churn dan tidak churn**"
      ],
      "metadata": {
        "id": "T7t0k5JyeCPh"
      }
    },
    {
      "cell_type": "code",
      "source": [
        "plt.pie(df['Churn Label'].value_counts(), labels=['Tidak Berhenti Berlangganan', 'Berhenti Berlangganan'], autopct='%1.1f%%')\n",
        "plt.title('Proporsi Pelanggan Berhenti Berlangganan dan Tidak Berhenti Berlangganan')\n",
        "plt.show()\n"
      ],
      "metadata": {
        "id": "nkwJLqm-eF2x",
        "outputId": "8cc740f0-0f38-4158-a33e-123e2f807d3a",
        "colab": {
          "base_uri": "https://localhost:8080/",
          "height": 428
        }
      },
      "execution_count": 56,
      "outputs": [
        {
          "output_type": "display_data",
          "data": {
            "text/plain": [
              "<Figure size 640x480 with 1 Axes>"
            ],
            "image/png": "[encoded data removed]"
          },
          "metadata": {}
        }
      ]
    },
    {
      "cell_type": "markdown",
      "source": [
        "**Diagram lingkaran untuk menunjukkan jenis pembayaran pelanggan:**"
      ],
      "metadata": {
        "id": "qNCitSOreF-W"
      }
    },
    {
      "cell_type": "code",
      "source": [
        "plt.pie(df['Payment Method'].value_counts(), labels=['Pulsa', 'Digital Wallet', 'Credit', 'Debit'], autopct='%1.1f%%')\n",
        "plt.title('Proporsi Jenis Pembayaran Pelanggan')\n",
        "plt.show()"
      ],
      "metadata": {
        "id": "C17D6E-oeIbP",
        "outputId": "d9f04a66-ed5e-4a85-dc1d-3a34a77313d9",
        "colab": {
          "base_uri": "https://localhost:8080/",
          "height": 428
        }
      },
      "execution_count": 69,
      "outputs": [
        {
          "output_type": "display_data",
          "data": {
            "text/plain": [
              "<Figure size 640x480 with 1 Axes>"
            ],
            "image/png": "[encoded data removed]"
          },
          "metadata": {}
        }
      ]
    },
    {
      "cell_type": "markdown",
      "source": [
        "**Diagram batang untuk menunjukkan jumlah pelanggan churn dan tidak churn berdasarkan jenis pembayaran pelanggan**"
      ],
      "metadata": {
        "id": "EK2IRVkDjJlg"
      }
    },
    {
      "cell_type": "code",
      "source": [
        "sns.countplot(x='Payment Method', hue='Churn Label', data=df)\n",
        "plt.title('Jumlah Pelanggan Churn dan Tidak Churn Berdasarkan Jenis Layanan Internet')\n",
        "plt.xlabel('Jenis Layanan Internet')\n",
        "plt.ylabel('Jumlah Pelanggan')\n",
        "plt.show()\n"
      ],
      "metadata": {
        "id": "UGjB0sapjJ7J",
        "outputId": "4f548330-803f-44d1-f381-5dbe6bb3f31c",
        "colab": {
          "base_uri": "https://localhost:8080/",
          "height": 472
        }
      },
      "execution_count": 67,
      "outputs": [
        {
          "output_type": "display_data",
          "data": {
            "text/plain": [
              "<Figure size 640x480 with 1 Axes>"
            ],
            "image/png": "[encoded data removed]"
          },
          "metadata": {}
        }
      ]
    },
    {
      "cell_type": "markdown",
      "source": [
        "**Diagram lingkaran untuk menunjukkan jenis device pelanggan:**"
      ],
      "metadata": {
        "id": "esXwPKnqiokg"
      }
    },
    {
      "cell_type": "code",
      "source": [
        "plt.pie(df['Device Class'].value_counts(), labels=['High End', 'Mid End', 'Low End'], autopct='%1.1f%%')\n",
        "plt.title('Proporsi Jenis Pembayaran Pelanggan')\n",
        "plt.show()"
      ],
      "metadata": {
        "id": "OEXGjW7OivTl",
        "outputId": "08925ac0-b484-4a77-ebd1-09755a890a8a",
        "colab": {
          "base_uri": "https://localhost:8080/",
          "height": 428
        }
      },
      "execution_count": 68,
      "outputs": [
        {
          "output_type": "display_data",
          "data": {
            "text/plain": [
              "<Figure size 640x480 with 1 Axes>"
            ],
            "image/png": "[encoded data removed]"
          },
          "metadata": {}
        }
      ]
    },
    {
      "cell_type": "markdown",
      "source": [
        "**Diagram batang untuk menunjukkan jumlah pelanggan churn dan tidak churn berdasarkan jenis device pelanggan**"
      ],
      "metadata": {
        "id": "uUurSJ4LeKaf"
      }
    },
    {
      "cell_type": "code",
      "source": [
        "sns.countplot(x='Device Class', hue='Churn Label', data=df)\n",
        "plt.title('Jumlah Pelanggan Churn dan Tidak Churn Berdasarkan Jenis Layanan Internet')\n",
        "plt.xlabel('Jenis Layanan Internet')\n",
        "plt.ylabel('Jumlah Pelanggan')\n",
        "plt.show()\n"
      ],
      "metadata": {
        "id": "jXh3MkJfeLC_",
        "outputId": "881c4e3e-2003-44f1-8d63-eb6f5890e8dc",
        "colab": {
          "base_uri": "https://localhost:8080/",
          "height": 472
        }
      },
      "execution_count": 63,
      "outputs": [
        {
          "output_type": "display_data",
          "data": {
            "text/plain": [
              "<Figure size 640x480 with 1 Axes>"
            ],
            "image/png": "[encoded data removed]"
          },
          "metadata": {}
        }
      ]
    }
  ]
}