{
  "nbformat": 4,
  "nbformat_minor": 0,
  "metadata": {
    "colab": {
      "provenance": [],
      "authorship_tag": "ABX9TyPQvcut8wS9php5o/QfgG8k"
    },
    "kernelspec": {
      "name": "python3",
      "display_name": "Python 3"
    },
    "language_info": {
      "name": "python"
    }
  },
  "cells": [
    {
      "cell_type": "markdown",
      "source": [
        "# **DATA CHALLANGE - DSW**"
      ],
      "metadata": {
        "id": "zIOQyDVYMBiu"
      }
    },
    {
      "cell_type": "markdown",
      "source": [
        "Langkah-langkah:\n",
        "\n",
        "1. Import Library\n",
        "2. Load Data\n",
        "3. Pemrosesan Data/Preprocessing\n",
        "4. Ekplorasi dan Visualisasi Data\n",
        "5. Pembuatan dan Pelatihan Model\n",
        "6. Evaluasi Model\n",
        "7. Tuning Model\n",
        "8. Pengimplementasian Model\n",
        "9. Dokumentasi"
      ],
      "metadata": {
        "id": "ULyHwKpIHxU1"
      }
    },
    {
      "cell_type": "markdown",
      "source": [
        "# **Import Library**"
      ],
      "metadata": {
        "id": "vtsBJZd3QPtL"
      }
    },
    {
      "cell_type": "code",
      "source": [
        "import pandas as pd"
      ],
      "metadata": {
        "id": "1hjserCYQRbC"
      },
      "execution_count": 3,
      "outputs": []
    },
    {
      "cell_type": "markdown",
      "source": [
        "# **Load Data**"
      ],
      "metadata": {
        "id": "jURyPzM1P8D4"
      }
    },
    {
      "cell_type": "code",
      "execution_count": null,
      "metadata": {
        "id": "vD-29rknL-ht",
        "colab": {
          "base_uri": "https://localhost:8080/"
        },
        "outputId": "f8ea7c91-9a43-49d8-d024-60b9e070f6f4"
      },
      "outputs": [
        {
          "output_type": "stream",
          "name": "stdout",
          "text": [
            "Mounted at /content/drive\n"
          ]
        }
      ],
      "source": [
        "# Load Data\n",
        "from google.colab import drive\n",
        "drive.mount('/content/drive')"
      ]
    },
    {
      "cell_type": "code",
      "source": [
        "df = pd.read_csv('/content/drive/MyDrive/DSW/dsw.csv')\n",
        "\n",
        "df.head()"
      ],
      "metadata": {
        "id": "1aboTyZDQBOy",
        "outputId": "fd95fd03-8687-41b6-e811-99c8f0933d05",
        "colab": {
          "base_uri": "https://localhost:8080/",
          "height": 365
        }
      },
      "execution_count": null,
      "outputs": [
        {
          "output_type": "execute_result",
          "data": {
            "text/plain": [
              "   Customer ID  Tenure Months Location Device Class Games Product  \\\n",
              "0            0              2  Jakarta      Mid End           Yes   \n",
              "1            1              2  Jakarta     High End            No   \n",
              "2            2              8  Jakarta     High End            No   \n",
              "3            3             28  Jakarta     High End            No   \n",
              "4            4             49  Jakarta     High End            No   \n",
              "\n",
              "  Music Product Education Product Call Center Video Product Use MyApp  \\\n",
              "0           Yes                No          No            No        No   \n",
              "1            No                No          No            No        No   \n",
              "2            No               Yes          No           Yes       Yes   \n",
              "3            No               Yes         Yes           Yes       Yes   \n",
              "4           Yes               Yes          No           Yes       Yes   \n",
              "\n",
              "   Payment Method Monthly Purchase (Thou. IDR) Churn Label  Longitude  \\\n",
              "0  Digital Wallet                       70,005         Yes  106,81667   \n",
              "1           Pulsa                        91,91         Yes  106,81667   \n",
              "2           Pulsa                      129,545         Yes  106,81667   \n",
              "3           Pulsa                       136,24         Yes  106,81667   \n",
              "4           Debit                       134,81         Yes  106,81667   \n",
              "\n",
              "   Latitude CLTV (Predicted Thou. IDR)  \n",
              "0  -6,20000                     4210,7  \n",
              "1  -6,20000                     3511,3  \n",
              "2  -6,20000                     6983,6  \n",
              "3  -6,20000                     6503,9  \n",
              "4  -6,20000                       6942  "
            ],
            "text/html": [
              "\n",
              "  <div id=\"df-2f9c62d2-c84d-4870-9bb2-e768980a1488\" class=\"colab-df-container\">\n",
              "    <div>\n",
              "<style scoped>\n",
              "    .dataframe tbody tr th:only-of-type {\n",
              "        vertical-align: middle;\n",
              "    }\n",
              "\n",
              "    .dataframe tbody tr th {\n",
              "        vertical-align: top;\n",
              "    }\n",
              "\n",
              "    .dataframe thead th {\n",
              "        text-align: right;\n",
              "    }\n",
              "</style>\n",
              "<table border=\"1\" class=\"dataframe\">\n",
              "  <thead>\n",
              "    <tr style=\"text-align: right;\">\n",
              "      <th></th>\n",
              "      <th>Customer ID</th>\n",
              "      <th>Tenure Months</th>\n",
              "      <th>Location</th>\n",
              "      <th>Device Class</th>\n",
              "      <th>Games Product</th>\n",
              "      <th>Music Product</th>\n",
              "      <th>Education Product</th>\n",
              "      <th>Call Center</th>\n",
              "      <th>Video Product</th>\n",
              "      <th>Use MyApp</th>\n",
              "      <th>Payment Method</th>\n",
              "      <th>Monthly Purchase (Thou. IDR)</th>\n",
              "      <th>Churn Label</th>\n",
              "      <th>Longitude</th>\n",
              "      <th>Latitude</th>\n",
              "      <th>CLTV (Predicted Thou. IDR)</th>\n",
              "    </tr>\n",
              "  </thead>\n",
              "  <tbody>\n",
              "    <tr>\n",
              "      <th>0</th>\n",
              "      <td>0</td>\n",
              "      <td>2</td>\n",
              "      <td>Jakarta</td>\n",
              "      <td>Mid End</td>\n",
              "      <td>Yes</td>\n",
              "      <td>Yes</td>\n",
              "      <td>No</td>\n",
              "      <td>No</td>\n",
              "      <td>No</td>\n",
              "      <td>No</td>\n",
              "      <td>Digital Wallet</td>\n",
              "      <td>70,005</td>\n",
              "      <td>Yes</td>\n",
              "      <td>106,81667</td>\n",
              "      <td>-6,20000</td>\n",
              "      <td>4210,7</td>\n",
              "    </tr>\n",
              "    <tr>\n",
              "      <th>1</th>\n",
              "      <td>1</td>\n",
              "      <td>2</td>\n",
              "      <td>Jakarta</td>\n",
              "      <td>High End</td>\n",
              "      <td>No</td>\n",
              "      <td>No</td>\n",
              "      <td>No</td>\n",
              "      <td>No</td>\n",
              "      <td>No</td>\n",
              "      <td>No</td>\n",
              "      <td>Pulsa</td>\n",
              "      <td>91,91</td>\n",
              "      <td>Yes</td>\n",
              "      <td>106,81667</td>\n",
              "      <td>-6,20000</td>\n",
              "      <td>3511,3</td>\n",
              "    </tr>\n",
              "    <tr>\n",
              "      <th>2</th>\n",
              "      <td>2</td>\n",
              "      <td>8</td>\n",
              "      <td>Jakarta</td>\n",
              "      <td>High End</td>\n",
              "      <td>No</td>\n",
              "      <td>No</td>\n",
              "      <td>Yes</td>\n",
              "      <td>No</td>\n",
              "      <td>Yes</td>\n",
              "      <td>Yes</td>\n",
              "      <td>Pulsa</td>\n",
              "      <td>129,545</td>\n",
              "      <td>Yes</td>\n",
              "      <td>106,81667</td>\n",
              "      <td>-6,20000</td>\n",
              "      <td>6983,6</td>\n",
              "    </tr>\n",
              "    <tr>\n",
              "      <th>3</th>\n",
              "      <td>3</td>\n",
              "      <td>28</td>\n",
              "      <td>Jakarta</td>\n",
              "      <td>High End</td>\n",
              "      <td>No</td>\n",
              "      <td>No</td>\n",
              "      <td>Yes</td>\n",
              "      <td>Yes</td>\n",
              "      <td>Yes</td>\n",
              "      <td>Yes</td>\n",
              "      <td>Pulsa</td>\n",
              "      <td>136,24</td>\n",
              "      <td>Yes</td>\n",
              "      <td>106,81667</td>\n",
              "      <td>-6,20000</td>\n",
              "      <td>6503,9</td>\n",
              "    </tr>\n",
              "    <tr>\n",
              "      <th>4</th>\n",
              "      <td>4</td>\n",
              "      <td>49</td>\n",
              "      <td>Jakarta</td>\n",
              "      <td>High End</td>\n",
              "      <td>No</td>\n",
              "      <td>Yes</td>\n",
              "      <td>Yes</td>\n",
              "      <td>No</td>\n",
              "      <td>Yes</td>\n",
              "      <td>Yes</td>\n",
              "      <td>Debit</td>\n",
              "      <td>134,81</td>\n",
              "      <td>Yes</td>\n",
              "      <td>106,81667</td>\n",
              "      <td>-6,20000</td>\n",
              "      <td>6942</td>\n",
              "    </tr>\n",
              "  </tbody>\n",
              "</table>\n",
              "</div>\n",
              "    <div class=\"colab-df-buttons\">\n",
              "\n",
              "  <div class=\"colab-df-container\">\n",
              "    <button class=\"colab-df-convert\" onclick=\"convertToInteractive('df-2f9c62d2-c84d-4870-9bb2-e768980a1488')\"\n",
              "            title=\"Convert this dataframe to an interactive table.\"\n",
              "            style=\"display:none;\">\n",
              "\n",
              "  <svg xmlns=\"http://www.w3.org/2000/svg\" height=\"24px\" viewBox=\"0 -960 960 960\">\n",
              "    <path d=\"M120-120v-720h720v720H120Zm60-500h600v-160H180v160Zm220 220h160v-160H400v160Zm0 220h160v-160H400v160ZM180-400h160v-160H180v160Zm440 0h160v-160H620v160ZM180-180h160v-160H180v160Zm440 0h160v-160H620v160Z\"/>\n",
              "  </svg>\n",
              "    </button>\n",
              "\n",
              "  <style>\n",
              "    .colab-df-container {\n",
              "      display:flex;\n",
              "      gap: 12px;\n",
              "    }\n",
              "\n",
              "    .colab-df-convert {\n",
              "      background-color: #E8F0FE;\n",
              "      border: none;\n",
              "      border-radius: 50%;\n",
              "      cursor: pointer;\n",
              "      display: none;\n",
              "      fill: #1967D2;\n",
              "      height: 32px;\n",
              "      padding: 0 0 0 0;\n",
              "      width: 32px;\n",
              "    }\n",
              "\n",
              "    .colab-df-convert:hover {\n",
              "      background-color: #E2EBFA;\n",
              "      box-shadow: 0px 1px 2px rgba(60, 64, 67, 0.3), 0px 1px 3px 1px rgba(60, 64, 67, 0.15);\n",
              "      fill: #174EA6;\n",
              "    }\n",
              "\n",
              "    .colab-df-buttons div {\n",
              "      margin-bottom: 4px;\n",
              "    }\n",
              "\n",
              "    [theme=dark] .colab-df-convert {\n",
              "      background-color: #3B4455;\n",
              "      fill: #D2E3FC;\n",
              "    }\n",
              "\n",
              "    [theme=dark] .colab-df-convert:hover {\n",
              "      background-color: #434B5C;\n",
              "      box-shadow: 0px 1px 3px 1px rgba(0, 0, 0, 0.15);\n",
              "      filter: drop-shadow(0px 1px 2px rgba(0, 0, 0, 0.3));\n",
              "      fill: #FFFFFF;\n",
              "    }\n",
              "  </style>\n",
              "\n",
              "    <script>\n",
              "      const buttonEl =\n",
              "        document.querySelector('#df-2f9c62d2-c84d-4870-9bb2-e768980a1488 button.colab-df-convert');\n",
              "      buttonEl.style.display =\n",
              "        google.colab.kernel.accessAllowed ? 'block' : 'none';\n",
              "\n",
              "      async function convertToInteractive(key) {\n",
              "        const element = document.querySelector('#df-2f9c62d2-c84d-4870-9bb2-e768980a1488');\n",
              "        const dataTable =\n",
              "          await google.colab.kernel.invokeFunction('convertToInteractive',\n",
              "                                                    [key], {});\n",
              "        if (!dataTable) return;\n",
              "\n",
              "        const docLinkHtml = 'Like what you see? Visit the ' +\n",
              "          '<a target=\"_blank\" href=https://colab.research.google.com/notebooks/data_table.ipynb>data table notebook</a>'\n",
              "          + ' to learn more about interactive tables.';\n",
              "        element.innerHTML = '';\n",
              "        dataTable['output_type'] = 'display_data';\n",
              "        await google.colab.output.renderOutput(dataTable, element);\n",
              "        const docLink = document.createElement('div');\n",
              "        docLink.innerHTML = docLinkHtml;\n",
              "        element.appendChild(docLink);\n",
              "      }\n",
              "    </script>\n",
              "  </div>\n",
              "\n",
              "\n",
              "<div id=\"df-f4d839b1-a461-42df-8bcf-4fd9057701e9\">\n",
              "  <button class=\"colab-df-quickchart\" onclick=\"quickchart('df-f4d839b1-a461-42df-8bcf-4fd9057701e9')\"\n",
              "            title=\"Suggest charts\"\n",
              "            style=\"display:none;\">\n",
              "\n",
              "<svg xmlns=\"http://www.w3.org/2000/svg\" height=\"24px\"viewBox=\"0 0 24 24\"\n",
              "     width=\"24px\">\n",
              "    <g>\n",
              "        <path d=\"M19 3H5c-1.1 0-2 .9-2 2v14c0 1.1.9 2 2 2h14c1.1 0 2-.9 2-2V5c0-1.1-.9-2-2-2zM9 17H7v-7h2v7zm4 0h-2V7h2v10zm4 0h-2v-4h2v4z\"/>\n",
              "    </g>\n",
              "</svg>\n",
              "  </button>\n",
              "\n",
              "<style>\n",
              "  .colab-df-quickchart {\n",
              "      --bg-color: #E8F0FE;\n",
              "      --fill-color: #1967D2;\n",
              "      --hover-bg-color: #E2EBFA;\n",
              "      --hover-fill-color: #174EA6;\n",
              "      --disabled-fill-color: #AAA;\n",
              "      --disabled-bg-color: #DDD;\n",
              "  }\n",
              "\n",
              "  [theme=dark] .colab-df-quickchart {\n",
              "      --bg-color: #3B4455;\n",
              "      --fill-color: #D2E3FC;\n",
              "      --hover-bg-color: #434B5C;\n",
              "      --hover-fill-color: #FFFFFF;\n",
              "      --disabled-bg-color: #3B4455;\n",
              "      --disabled-fill-color: #666;\n",
              "  }\n",
              "\n",
              "  .colab-df-quickchart {\n",
              "    background-color: var(--bg-color);\n",
              "    border: none;\n",
              "    border-radius: 50%;\n",
              "    cursor: pointer;\n",
              "    display: none;\n",
              "    fill: var(--fill-color);\n",
              "    height: 32px;\n",
              "    padding: 0;\n",
              "    width: 32px;\n",
              "  }\n",
              "\n",
              "  .colab-df-quickchart:hover {\n",
              "    background-color: var(--hover-bg-color);\n",
              "    box-shadow: 0 1px 2px rgba(60, 64, 67, 0.3), 0 1px 3px 1px rgba(60, 64, 67, 0.15);\n",
              "    fill: var(--button-hover-fill-color);\n",
              "  }\n",
              "\n",
              "  .colab-df-quickchart-complete:disabled,\n",
              "  .colab-df-quickchart-complete:disabled:hover {\n",
              "    background-color: var(--disabled-bg-color);\n",
              "    fill: var(--disabled-fill-color);\n",
              "    box-shadow: none;\n",
              "  }\n",
              "\n",
              "  .colab-df-spinner {\n",
              "    border: 2px solid var(--fill-color);\n",
              "    border-color: transparent;\n",
              "    border-bottom-color: var(--fill-color);\n",
              "    animation:\n",
              "      spin 1s steps(1) infinite;\n",
              "  }\n",
              "\n",
              "  @keyframes spin {\n",
              "    0% {\n",
              "      border-color: transparent;\n",
              "      border-bottom-color: var(--fill-color);\n",
              "      border-left-color: var(--fill-color);\n",
              "    }\n",
              "    20% {\n",
              "      border-color: transparent;\n",
              "      border-left-color: var(--fill-color);\n",
              "      border-top-color: var(--fill-color);\n",
              "    }\n",
              "    30% {\n",
              "      border-color: transparent;\n",
              "      border-left-color: var(--fill-color);\n",
              "      border-top-color: var(--fill-color);\n",
              "      border-right-color: var(--fill-color);\n",
              "    }\n",
              "    40% {\n",
              "      border-color: transparent;\n",
              "      border-right-color: var(--fill-color);\n",
              "      border-top-color: var(--fill-color);\n",
              "    }\n",
              "    60% {\n",
              "      border-color: transparent;\n",
              "      border-right-color: var(--fill-color);\n",
              "    }\n",
              "    80% {\n",
              "      border-color: transparent;\n",
              "      border-right-color: var(--fill-color);\n",
              "      border-bottom-color: var(--fill-color);\n",
              "    }\n",
              "    90% {\n",
              "      border-color: transparent;\n",
              "      border-bottom-color: var(--fill-color);\n",
              "    }\n",
              "  }\n",
              "</style>\n",
              "\n",
              "  <script>\n",
              "    async function quickchart(key) {\n",
              "      const quickchartButtonEl =\n",
              "        document.querySelector('#' + key + ' button');\n",
              "      quickchartButtonEl.disabled = true;  // To prevent multiple clicks.\n",
              "      quickchartButtonEl.classList.add('colab-df-spinner');\n",
              "      try {\n",
              "        const charts = await google.colab.kernel.invokeFunction(\n",
              "            'suggestCharts', [key], {});\n",
              "      } catch (error) {\n",
              "        console.error('Error during call to suggestCharts:', error);\n",
              "      }\n",
              "      quickchartButtonEl.classList.remove('colab-df-spinner');\n",
              "      quickchartButtonEl.classList.add('colab-df-quickchart-complete');\n",
              "    }\n",
              "    (() => {\n",
              "      let quickchartButtonEl =\n",
              "        document.querySelector('#df-f4d839b1-a461-42df-8bcf-4fd9057701e9 button');\n",
              "      quickchartButtonEl.style.display =\n",
              "        google.colab.kernel.accessAllowed ? 'block' : 'none';\n",
              "    })();\n",
              "  </script>\n",
              "</div>\n",
              "    </div>\n",
              "  </div>\n"
            ]
          },
          "metadata": {},
          "execution_count": 4
        }
      ]
    },
    {
      "cell_type": "markdown",
      "source": [
        "# **Data Preprocessing**"
      ],
      "metadata": {
        "id": "O7G7sPauS1-_"
      }
    },
    {
      "cell_type": "code",
      "source": [
        "df.shape"
      ],
      "metadata": {
        "id": "Sv8lyWvHQYQC",
        "outputId": "af99af46-fc77-47d8-9fc9-f045af0ab3ca",
        "colab": {
          "base_uri": "https://localhost:8080/"
        }
      },
      "execution_count": null,
      "outputs": [
        {
          "output_type": "execute_result",
          "data": {
            "text/plain": [
              "(7043, 16)"
            ]
          },
          "metadata": {},
          "execution_count": 6
        }
      ]
    },
    {
      "cell_type": "code",
      "source": [
        "# cek kolom null\n",
        "print(df.isnull().sum())"
      ],
      "metadata": {
        "id": "fdYc6sw8Stiz",
        "outputId": "276cf7d0-9a69-4a39-f417-7b9afe4254e5",
        "colab": {
          "base_uri": "https://localhost:8080/"
        }
      },
      "execution_count": 9,
      "outputs": [
        {
          "output_type": "stream",
          "name": "stdout",
          "text": [
            "Customer ID                     0\n",
            "Tenure Months                   0\n",
            "Location                        0\n",
            "Device Class                    0\n",
            "Games Product                   0\n",
            "Music Product                   0\n",
            "Education Product               0\n",
            "Call Center                     0\n",
            "Video Product                   0\n",
            "Use MyApp                       0\n",
            "Payment Method                  0\n",
            "Monthly Purchase (Thou. IDR)    0\n",
            "Churn Label                     0\n",
            "Longitude                       0\n",
            "Latitude                        0\n",
            "CLTV (Predicted Thou. IDR)      0\n",
            "dtype: int64\n"
          ]
        }
      ]
    },
    {
      "cell_type": "code",
      "source": [
        "# Drop kolom customerID\n",
        "df.drop('Customer ID', axis=1, inplace=True)"
      ],
      "metadata": {
        "id": "8hzpqxbsTPSx"
      },
      "execution_count": 10,
      "outputs": []
    },
    {
      "cell_type": "code",
      "source": [
        "# Convert categorical variables to numerical variables\n",
        "df = pd.get_dummies(df, columns=['Location', 'Device Class', 'Games Product', 'Music Product',\n",
        "                                 'Education Product', 'Call Center', 'Video Product',\n",
        "                                 'Use MyApp', 'Payment Method', 'Churn Label'])"
      ],
      "metadata": {
        "id": "I6MoAo58TbsQ"
      },
      "execution_count": 11,
      "outputs": []
    },
    {
      "cell_type": "markdown",
      "source": [
        "# **Split Dataset**"
      ],
      "metadata": {
        "id": "k9TUruvMSpL_"
      }
    },
    {
      "cell_type": "code",
      "source": [],
      "metadata": {
        "id": "mu6YMaO9Ts1G"
      },
      "execution_count": null,
      "outputs": []
    }
  ]
}