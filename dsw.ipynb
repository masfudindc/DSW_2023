{
  "nbformat": 4,
  "nbformat_minor": 0,
  "metadata": {
    "colab": {
      "provenance": [],
      "authorship_tag": "ABX9TyONsNfozu/Zk2+DWS5WJHBi"
    },
    "kernelspec": {
      "name": "python3",
      "display_name": "Python 3"
    },
    "language_info": {
      "name": "python"
    }
  },
  "cells": [
    {
      "cell_type": "markdown",
      "source": [
        "# **DATA CHALLANGE - DSW**"
      ],
      "metadata": {
        "id": "zIOQyDVYMBiu"
      }
    },
    {
      "cell_type": "markdown",
      "source": [
        "Langkah-langkah:\n",
        "\n",
        "1. Import Library\n",
        "2. Load Data\n",
        "3. Pemrosesan Data/Preprocessing\n",
        "4. Ekplorasi dan Visualisasi Data\n",
        "5. Pembuatan dan Pelatihan Model\n",
        "6. Evaluasi Model\n",
        "7. Tuning Model\n",
        "8. Pengimplementasian Model\n",
        "9. Dokumentasi"
      ],
      "metadata": {
        "id": "ULyHwKpIHxU1"
      }
    },
    {
      "cell_type": "code",
      "execution_count": null,
      "metadata": {
        "id": "vD-29rknL-ht"
      },
      "outputs": [],
      "source": []
    }
  ]
}