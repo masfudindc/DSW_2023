{
  "nbformat": 4,
  "nbformat_minor": 0,
  "metadata": {
    "colab": {
      "provenance": [],
      "authorship_tag": "ABX9TyO0bgoDNxGryea+GQmRW0Hk"
    },
    "kernelspec": {
      "name": "python3",
      "display_name": "Python 3"
    },
    "language_info": {
      "name": "python"
    }
  },
  "cells": [
    {
      "cell_type": "markdown",
      "source": [
        "# **DATA CHALLANGE - DSW**"
      ],
      "metadata": {
        "id": "zIOQyDVYMBiu"
      }
    },
    {
      "cell_type": "code",
      "execution_count": null,
      "metadata": {
        "id": "vD-29rknL-ht"
      },
      "outputs": [],
      "source": []
    }
  ]
}